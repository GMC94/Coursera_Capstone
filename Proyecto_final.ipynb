{
  "nbformat": 4,
  "nbformat_minor": 0,
  "metadata": {
    "colab": {
      "name": "Proyecto final.ipynb",
      "provenance": []
    },
    "kernelspec": {
      "name": "python3",
      "display_name": "Python 3"
    },
    "language_info": {
      "name": "python"
    }
  },
  "cells": [
    {
      "cell_type": "markdown",
      "source": [
        "A continuación, se importaran las siguientes librerias para el proyecto final:\n",
        "\n",
        "\n"
      ],
      "metadata": {
        "id": "qjn0CrtnzP3D"
      }
    },
    {
      "cell_type": "code",
      "source": [
        "import pandas as pd\n",
        "import numpy as np"
      ],
      "metadata": {
        "id": "-mpxX-oYzXT1"
      },
      "execution_count": 1,
      "outputs": []
    },
    {
      "cell_type": "code",
      "source": [
        "#¡Hola, Proyecto Final del Curso!"
      ],
      "metadata": {
        "id": "EG8m8ByEztDe"
      },
      "execution_count": 2,
      "outputs": []
    },
    {
      "cell_type": "code",
      "source": [
        ""
      ],
      "metadata": {
        "id": "GU100BwJzy3j"
      },
      "execution_count": null,
      "outputs": []
    }
  ]
}